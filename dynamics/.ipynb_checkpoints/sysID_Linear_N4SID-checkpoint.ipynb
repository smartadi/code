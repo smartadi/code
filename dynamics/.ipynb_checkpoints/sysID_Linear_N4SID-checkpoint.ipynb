{
 "cells": [
  {
   "cell_type": "code",
   "execution_count": 1,
   "id": "92c4d143",
   "metadata": {},
   "outputs": [],
   "source": [
    "# Need data to be zero mean and scaled???\n",
    "\n",
    "# Stochastic algorithm 3\n",
    "\n",
    "import numpy as np\n",
    "import scipy as sc\n",
    "import matplotlib.pyplot as plt\n",
    "%matplotlib inline\n",
    "import matplotlib.animation as animation\n",
    "from sklearn import datasets  # to retrieve the iris Dataset\n",
    "import pandas as pd  # to load the dataframe\n",
    "from sklearn.preprocessing import StandardScaler  # to standardize the features\n",
    "from sklearn.decomposition import PCA  # to apply PCA\n",
    "import seaborn as sns  # to plot the heat maps#float32\n",
    "import control\n",
    "\n",
    "# ID\n",
    "from __future__ import division\n",
    "\n",
    "from past.utils import old_div\n",
    "\n",
    "# Checking path to access other files\n",
    "try:\n",
    "    from sippy import *\n",
    "except ImportError:\n",
    "    import sys, os\n",
    "\n",
    "    sys.path.append(os.pardir)\n",
    "    from sippy import *\n",
    "\n",
    "import numpy as np\n",
    "from sippy import functionset as fset\n",
    "from sippy import functionsetSIM as fsetSIM\n",
    "import matplotlib.pyplot as plt"
   ]
  },
  {
   "cell_type": "code",
   "execution_count": 2,
   "id": "30100bfa",
   "metadata": {},
   "outputs": [
    {
     "name": "stdout",
     "output_type": "stream",
     "text": [
      "(166, 1000)\n"
     ]
    }
   ],
   "source": [
    "# Load spike data\n",
    "spike_data = np.load('../data/KPCA_proj.npy')                      \n",
    "scalar = StandardScaler()\n",
    "scaled_data = pd.DataFrame(scalar.fit_transform(spike_data)) #scaling the data\n",
    "print(scaled_data.shape)\n",
    "scaled=pd.DataFrame.to_numpy(scaled_data)\n",
    "scaled_r = scaled[0:20,:]"
   ]
  },
  {
   "cell_type": "code",
   "execution_count": 3,
   "id": "a86362e8",
   "metadata": {},
   "outputs": [
    {
     "name": "stdout",
     "output_type": "stream",
     "text": [
      "(20, 1000)\n"
     ]
    }
   ],
   "source": [
    "print(scaled_r.shape)"
   ]
  },
  {
   "cell_type": "code",
   "execution_count": 4,
   "id": "b7c4ba70",
   "metadata": {},
   "outputs": [],
   "source": [
    "# Hankel Matrices i>n and j -> \\infty\n",
    "def Hankel(data,h,w):\n",
    "    p = data.shape[0]\n",
    "    J = w # 500\n",
    "    I = h  # double\n",
    "    Y = np.empty([2*I*p,J])\n",
    "\n",
    "    for i in range(2*I):\n",
    "        Y[i*(p):(i+1)*p,:] = data[:,i:J+i]\n",
    "    \n",
    "    print(Y.shape)\n",
    "    return Y"
   ]
  },
  {
   "cell_type": "code",
   "execution_count": 5,
   "id": "fed5856b",
   "metadata": {},
   "outputs": [
    {
     "ename": "ValueError",
     "evalue": "could not broadcast input array from shape (20,999) into shape (20,1000)",
     "output_type": "error",
     "traceback": [
      "\u001b[0;31m---------------------------------------------------------------------------\u001b[0m",
      "\u001b[0;31mValueError\u001b[0m                                Traceback (most recent call last)",
      "\u001b[0;32m/tmp/ipykernel_10313/2725837406.py\u001b[0m in \u001b[0;36m<module>\u001b[0;34m\u001b[0m\n\u001b[1;32m      2\u001b[0m \u001b[0mI\u001b[0m \u001b[0;34m=\u001b[0m \u001b[0;36m40\u001b[0m\u001b[0;34m\u001b[0m\u001b[0;34m\u001b[0m\u001b[0m\n\u001b[1;32m      3\u001b[0m \u001b[0mJ\u001b[0m \u001b[0;34m=\u001b[0m \u001b[0;36m1000\u001b[0m\u001b[0;34m\u001b[0m\u001b[0;34m\u001b[0m\u001b[0m\n\u001b[0;32m----> 4\u001b[0;31m \u001b[0mY\u001b[0m \u001b[0;34m=\u001b[0m \u001b[0mHankel\u001b[0m\u001b[0;34m(\u001b[0m\u001b[0mscaled_r\u001b[0m\u001b[0;34m,\u001b[0m\u001b[0mI\u001b[0m\u001b[0;34m,\u001b[0m\u001b[0mJ\u001b[0m\u001b[0;34m)\u001b[0m\u001b[0;34m\u001b[0m\u001b[0;34m\u001b[0m\u001b[0m\n\u001b[0m\u001b[1;32m      5\u001b[0m \u001b[0mYp\u001b[0m \u001b[0;34m=\u001b[0m \u001b[0mY\u001b[0m\u001b[0;34m[\u001b[0m\u001b[0;34m:\u001b[0m\u001b[0mI\u001b[0m\u001b[0;34m*\u001b[0m\u001b[0mp\u001b[0m\u001b[0;34m,\u001b[0m\u001b[0;34m:\u001b[0m\u001b[0;34m]\u001b[0m\u001b[0;34m\u001b[0m\u001b[0;34m\u001b[0m\u001b[0m\n\u001b[1;32m      6\u001b[0m \u001b[0mYf\u001b[0m \u001b[0;34m=\u001b[0m \u001b[0mY\u001b[0m\u001b[0;34m[\u001b[0m\u001b[0mI\u001b[0m\u001b[0;34m*\u001b[0m\u001b[0mp\u001b[0m\u001b[0;34m:\u001b[0m\u001b[0;34m,\u001b[0m\u001b[0;34m:\u001b[0m\u001b[0;34m]\u001b[0m\u001b[0;34m\u001b[0m\u001b[0;34m\u001b[0m\u001b[0m\n",
      "\u001b[0;32m/tmp/ipykernel_10313/4271369901.py\u001b[0m in \u001b[0;36mHankel\u001b[0;34m(data, h, w)\u001b[0m\n\u001b[1;32m      7\u001b[0m \u001b[0;34m\u001b[0m\u001b[0m\n\u001b[1;32m      8\u001b[0m     \u001b[0;32mfor\u001b[0m \u001b[0mi\u001b[0m \u001b[0;32min\u001b[0m \u001b[0mrange\u001b[0m\u001b[0;34m(\u001b[0m\u001b[0;36m2\u001b[0m\u001b[0;34m*\u001b[0m\u001b[0mI\u001b[0m\u001b[0;34m)\u001b[0m\u001b[0;34m:\u001b[0m\u001b[0;34m\u001b[0m\u001b[0;34m\u001b[0m\u001b[0m\n\u001b[0;32m----> 9\u001b[0;31m         \u001b[0mY\u001b[0m\u001b[0;34m[\u001b[0m\u001b[0mi\u001b[0m\u001b[0;34m*\u001b[0m\u001b[0;34m(\u001b[0m\u001b[0mp\u001b[0m\u001b[0;34m)\u001b[0m\u001b[0;34m:\u001b[0m\u001b[0;34m(\u001b[0m\u001b[0mi\u001b[0m\u001b[0;34m+\u001b[0m\u001b[0;36m1\u001b[0m\u001b[0;34m)\u001b[0m\u001b[0;34m*\u001b[0m\u001b[0mp\u001b[0m\u001b[0;34m,\u001b[0m\u001b[0;34m:\u001b[0m\u001b[0;34m]\u001b[0m \u001b[0;34m=\u001b[0m \u001b[0mdata\u001b[0m\u001b[0;34m[\u001b[0m\u001b[0;34m:\u001b[0m\u001b[0;34m,\u001b[0m\u001b[0mi\u001b[0m\u001b[0;34m:\u001b[0m\u001b[0mJ\u001b[0m\u001b[0;34m+\u001b[0m\u001b[0mi\u001b[0m\u001b[0;34m]\u001b[0m\u001b[0;34m\u001b[0m\u001b[0;34m\u001b[0m\u001b[0m\n\u001b[0m\u001b[1;32m     10\u001b[0m \u001b[0;34m\u001b[0m\u001b[0m\n\u001b[1;32m     11\u001b[0m     \u001b[0mprint\u001b[0m\u001b[0;34m(\u001b[0m\u001b[0mY\u001b[0m\u001b[0;34m.\u001b[0m\u001b[0mshape\u001b[0m\u001b[0;34m)\u001b[0m\u001b[0;34m\u001b[0m\u001b[0;34m\u001b[0m\u001b[0m\n",
      "\u001b[0;31mValueError\u001b[0m: could not broadcast input array from shape (20,999) into shape (20,1000)"
     ]
    }
   ],
   "source": [
    "p = 20\n",
    "I = 40\n",
    "J = 500\n",
    "Y = Hankel(scaled_r,I,J)\n",
    "Yp = Y[:I*p,:]\n",
    "Yf = Y[I*p:,:]\n",
    "\n",
    "Ypp = Y[:(I+1)*p,:]\n",
    "yff = Y[(I+1)*p:,:]\n",
    "print(Yp.shape)\n",
    "print(Yf.shape)\n",
    "print(Ypp.shape)\n",
    "print(yff.shape)"
   ]
  },
  {
   "cell_type": "code",
   "execution_count": null,
   "id": "ccb32fed",
   "metadata": {},
   "outputs": [],
   "source": [
    "def Project(A,B):\n",
    "    return A@B.T@np.linalg.pinv(B@B.T)@B "
   ]
  },
  {
   "cell_type": "code",
   "execution_count": null,
   "id": "8c8291ed",
   "metadata": {},
   "outputs": [],
   "source": [
    "Oi = Project(Yf,Yp)\n",
    "oi = Project(yff,Ypp)"
   ]
  },
  {
   "cell_type": "code",
   "execution_count": null,
   "id": "323fd613",
   "metadata": {},
   "outputs": [],
   "source": [
    "W1 = np.eye(p*I)\n",
    "W2 = np.eye(J)\n",
    "O = W1@Oi@W2\n",
    "print(Oi.shape)\n",
    "print(O.shape)"
   ]
  },
  {
   "cell_type": "code",
   "execution_count": null,
   "id": "5e08fcb1",
   "metadata": {},
   "outputs": [],
   "source": [
    "U, s, VT = np.linalg.svd(O, full_matrices=False)"
   ]
  },
  {
   "cell_type": "code",
   "execution_count": null,
   "id": "959f21e9",
   "metadata": {},
   "outputs": [],
   "source": [
    "print(s.shape)\n",
    "fig, ax = plt.subplots()\n",
    "ax.plot(s)\n",
    "\n",
    "ax.set(xlabel='rank', ylabel='S',\n",
    "       title='Singular values')\n",
    "plt.show()"
   ]
  },
  {
   "cell_type": "code",
   "execution_count": null,
   "id": "6de04b01",
   "metadata": {},
   "outputs": [],
   "source": [
    "# get r from svd\n",
    "r = 30\n",
    "U_r = U[:,:r]\n",
    "S_r = np.diag(s[:r,])"
   ]
  },
  {
   "cell_type": "code",
   "execution_count": null,
   "id": "04529ece",
   "metadata": {},
   "outputs": [],
   "source": [
    "Gi = U_r@sc.linalg.sqrtm(S_r)\n",
    "gi = Gi[:-p,:]\n",
    "Xhat = np.linalg.pinv(Gi)@Oi\n",
    "XXhat = np.linalg.pinv(gi)@oi\n",
    "Yi = Yf[:p,:]"
   ]
  },
  {
   "cell_type": "code",
   "execution_count": null,
   "id": "94f80321",
   "metadata": {},
   "outputs": [],
   "source": [
    "A = XXhat@np.linalg.pinv(Xhat)\n",
    "C = Yi@np.linalg.pinv(Xhat)"
   ]
  },
  {
   "cell_type": "code",
   "execution_count": null,
   "id": "7948a682",
   "metadata": {},
   "outputs": [],
   "source": [
    "# residuals\n",
    "rho_w = XXhat - A@Xhat\n",
    "rho_v = Yi - C@Xhat\n",
    "rho =  np.concatenate((rho_w, rho_v), axis=0)\n",
    "print(rho.shape)\n",
    "Cov = np.cov(rho)\n",
    "print(Cov.shape)"
   ]
  },
  {
   "cell_type": "code",
   "execution_count": null,
   "id": "8df80424",
   "metadata": {},
   "outputs": [],
   "source": [
    "Q = Cov[:30,:30]\n",
    "R = Cov[-20:,-20:]\n",
    "SS = Cov[:30,-20:]\n",
    "print(SS.shape)"
   ]
  },
  {
   "cell_type": "code",
   "execution_count": null,
   "id": "40a934c9",
   "metadata": {},
   "outputs": [],
   "source": [
    "#Sig = scipy.linalg.solve_discrete_lyapunov(A,Q)\n",
    "#G = A@Sig@C.T + SS\n",
    "#Gam_0 = C@Sig@C.T + R\n",
    "\n",
    "#P = scipy.linalg.solve_discrete_are(A.T,)\n"
   ]
  },
  {
   "cell_type": "code",
   "execution_count": null,
   "id": "9f480e82",
   "metadata": {},
   "outputs": [],
   "source": [
    "#K,P,E = control.dlqe(A,np.eye(r),C,Q,R)"
   ]
  },
  {
   "cell_type": "code",
   "execution_count": null,
   "id": "2eeccb13",
   "metadata": {},
   "outputs": [],
   "source": [
    "# orignal data projected\n",
    "t = 500\n",
    "time = np.linspace(1, t, t)\n",
    "neurons = np.linspace(1, p, p)\n",
    "T, N = np.meshgrid(time, neurons)\n",
    "\n",
    "fig = plt.figure(figsize = (12,10))\n",
    "ax = plt.axes(projection='3d')\n",
    "\n",
    "surf = ax.plot_surface(T, N, scaled_r[:,0:t], cmap = plt.cm.cividis)\n",
    "\n",
    "\n",
    "fig.colorbar(surf, shrink=0.5, aspect=8)\n",
    "\n",
    "plt.show()"
   ]
  },
  {
   "cell_type": "code",
   "execution_count": null,
   "id": "b8760d60",
   "metadata": {},
   "outputs": [],
   "source": [
    "# orignal data projected\n",
    "t = 500\n",
    "time = np.linspace(1, t, t)\n",
    "neurons = np.linspace(1, p, p)\n",
    "T, N = np.meshgrid(time, neurons)\n",
    "\n",
    "fig = plt.figure(figsize = (12,10))\n",
    "ax = plt.axes(projection='3d')\n",
    "\n",
    "surf = ax.plot_surface(T, N, spike_data[0:p,0:t], cmap = plt.cm.cividis)\n",
    "\n",
    "\n",
    "fig.colorbar(surf, shrink=0.5, aspect=8)\n",
    "\n",
    "plt.show()\n",
    "    "
   ]
  },
  {
   "cell_type": "code",
   "execution_count": null,
   "id": "caac7b48",
   "metadata": {},
   "outputs": [],
   "source": [
    "# Forecast\n",
    "tt = 20\n",
    "x = np.zeros([r,tt])\n",
    "x[:,0] = Xhat[:,0]\n",
    "y = np.zeros([p,tt])\n",
    "\n",
    "for i in range(tt-1):\n",
    "    y[:,i+1] = C@x[:,i]\n",
    "    x[:,i+1] = A@x[:,i]\n",
    "    \n",
    "    "
   ]
  },
  {
   "cell_type": "code",
   "execution_count": null,
   "id": "21469456",
   "metadata": {},
   "outputs": [],
   "source": [
    "# linear data projected\n",
    "t = tt\n",
    "time = np.linspace(1, t, t)\n",
    "neurons = np.linspace(1, p, p)\n",
    "T, N = np.meshgrid(time, neurons)\n",
    "\n",
    "fig = plt.figure(figsize = (12,10))\n",
    "ax = plt.axes(projection='3d')\n",
    "\n",
    "surf = ax.plot_surface(T, N, y, cmap = plt.cm.cividis)\n",
    "\n",
    "\n",
    "fig.colorbar(surf, shrink=0.5, aspect=8)\n",
    "\n",
    "plt.show()\n",
    "    "
   ]
  },
  {
   "cell_type": "code",
   "execution_count": null,
   "id": "1d617fca",
   "metadata": {},
   "outputs": [],
   "source": [
    "# orignal data projected\n",
    "t = tt\n",
    "time = np.linspace(1, t, t)\n",
    "neurons = np.linspace(1, p, p)\n",
    "T, N = np.meshgrid(time, neurons)\n",
    "\n",
    "fig = plt.figure(figsize = (12,10))\n",
    "ax = plt.axes(projection='3d')\n",
    "\n",
    "surf = ax.plot_surface(T, N, scaled_r[0:p,0:t], cmap = plt.cm.cividis)\n",
    "\n",
    "\n",
    "fig.colorbar(surf, shrink=0.5, aspect=8)\n",
    "\n",
    "plt.show()"
   ]
  },
  {
   "cell_type": "code",
   "execution_count": null,
   "id": "be60a0fc",
   "metadata": {},
   "outputs": [],
   "source": []
  },
  {
   "cell_type": "code",
   "execution_count": null,
   "id": "7e7e83de",
   "metadata": {},
   "outputs": [],
   "source": []
  },
  {
   "cell_type": "code",
   "execution_count": null,
   "id": "5121f10c",
   "metadata": {},
   "outputs": [],
   "source": []
  }
 ],
 "metadata": {
  "kernelspec": {
   "display_name": "Python 3 (ipykernel)",
   "language": "python",
   "name": "python3"
  },
  "language_info": {
   "codemirror_mode": {
    "name": "ipython",
    "version": 3
   },
   "file_extension": ".py",
   "mimetype": "text/x-python",
   "name": "python",
   "nbconvert_exporter": "python",
   "pygments_lexer": "ipython3",
   "version": "3.9.16"
  }
 },
 "nbformat": 4,
 "nbformat_minor": 5
}
