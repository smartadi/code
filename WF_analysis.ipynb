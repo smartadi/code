{
 "cells": [
  {
   "cell_type": "code",
   "execution_count": 1,
   "id": "aaa6d6f4",
   "metadata": {},
   "outputs": [],
   "source": [
    "import numpy as np\n",
    "import scipy as sc\n",
    "import matplotlib.pyplot as plt\n",
    "%matplotlib inline\n",
    "import matplotlib.animation as animation\n",
    "from sklearn import datasets  # to retrieve the iris Dataset\n",
    "import pandas as pd  # to load the dataframe\n",
    "from sklearn.preprocessing import StandardScaler  # to standardize the features\n",
    "from sklearn.decomposition import PCA  # to apply PCA\n",
    "import seaborn as sns  # to plot the heat maps#float32\n",
    "from numba import jit, cuda\n",
    "from numba import jit, prange"
   ]
  },
  {
   "cell_type": "code",
   "execution_count": 2,
   "id": "c04f7860",
   "metadata": {},
   "outputs": [
    {
     "name": "stdout",
     "output_type": "stream",
     "text": [
      "(313600, 5000)\n"
     ]
    }
   ],
   "source": [
    "# Load spike data\n",
    "#WF_data = np.load('data/data_WF_short.npy')\n",
    "WF_data = np.memmap('data/data_WF_short.npy',dtype='float32',mode='r', shape=(313600, 5000))\n",
    "#wf_space_data_temp = np.memmap('data/svdSpatialComponents.npy', )\n",
    "\n",
    "#WF_data_t = WF_data[:,10000:10999]\n",
    "print(np.shape(WF_data))\n",
    "\n",
    "W_short = np.array(WF_data[:,:1000])\n",
    "W = np.array(WF_data)\n",
    "# short time span\n",
    "#t = np.shape(spike_data_t)[1]\n",
    "#n = np.shape(spike_data)[0]"
   ]
  },
  {
   "cell_type": "code",
   "execution_count": 3,
   "id": "75af657a",
   "metadata": {},
   "outputs": [],
   "source": [
    "@jit(target_backend='cuda')\n",
    "def scaling(a):\n",
    "    #scalar = StandardScaler()\n",
    "    #scaled_data = pd.DataFrame(scalar.fit_transform(a)) #scaling the data\n",
    "    #print(scaled_data.shape)\n",
    "    \n",
    "    a = (a - np.mean(a,axis=0))/ np.std(a, axis = 0)\n",
    "\n",
    "    #Applying PCA\n",
    "\n",
    "    #Taking no. of Principal Components r\n",
    "    #r = 500\n",
    "    #pca = PCA(n_components = r)\n",
    "\n",
    "    #data_pca = pca.fit_transform(a) # = US\n",
    "\n",
    "    #c = pca.components_      # V\n",
    "    #s = pca.singular_values_ # S\n",
    "\n",
    "    return a"
   ]
  },
  {
   "cell_type": "code",
   "execution_count": 4,
   "id": "1072ea4e",
   "metadata": {},
   "outputs": [],
   "source": [
    "@jit(target_backend='cuda')\n",
    "def scaling_numba(a):\n",
    "\n",
    "    res = []\n",
    "    for i in prange(a.shape[0]):\n",
    "        res.append(a[i, :].mean())\n",
    "\n",
    "    return np.array(res)\n"
   ]
  },
  {
   "cell_type": "code",
   "execution_count": 5,
   "id": "5d652981",
   "metadata": {},
   "outputs": [],
   "source": [
    "@jit(target_backend='cuda')\n",
    "def scaling_numba1(a):\n",
    "\n",
    "    mean = np.zeros((1,a.shape[1]))\n",
    "    \n",
    "    for j in prange(a.shape[1]):\n",
    "        for i in prange(a.shape[0]):\n",
    "            mean[0,j] = mean[0,j] + a[i,j]\n",
    "        \n",
    "        mean[0,j] = mean[0,j]/a.shape[0]\n",
    "        \n",
    "    std = np.zeros((1,a.shape[1]))\n",
    "    for j in prange(a.shape[1]):\n",
    "        for i in prange(a.shape[0]):\n",
    "            std[0,j] = np.sqrt((a[i,j] - mean[0,j])**2/a.shape[0])\n",
    "    \n",
    "    for j in prange(a.shape[1]):\n",
    "        a[:,j] = (a[:,j]-mean[0,j])/std[0,j]\n",
    "\n",
    "    return a"
   ]
  },
  {
   "cell_type": "code",
   "execution_count": 6,
   "id": "f92a1665",
   "metadata": {},
   "outputs": [],
   "source": [
    "#W_scaled = scaling(W_short)\n",
    "#W_scaled = scaling(W)\n",
    "W_scaled = scaling_numba1(W)"
   ]
  },
  {
   "cell_type": "code",
   "execution_count": 7,
   "id": "6dd99fd2",
   "metadata": {},
   "outputs": [
    {
     "name": "stdout",
     "output_type": "stream",
     "text": [
      "(313600, 5000)\n"
     ]
    }
   ],
   "source": [
    "print(W_scaled.shape)"
   ]
  },
  {
   "cell_type": "code",
   "execution_count": 8,
   "id": "36b2e7df",
   "metadata": {},
   "outputs": [],
   "source": [
    "@jit(target_backend='cuda')\n",
    "def PCA_scale(a):\n",
    "    #scalar = StandardScaler()\n",
    "    #scaled_data = pd.DataFrame(scalar.fit_transform(a)) #scaling the data\n",
    "    #print(scaled_data.shape)\n",
    "    \n",
    "    u, s, v = np.linalg.svd(a, full_matrices=False)\n",
    "\n",
    "    #Applying PCA\n",
    "\n",
    "    #Taking no. of Principal Components r\n",
    "    #r = 500\n",
    "    #pca = PCA(n_components = r)\n",
    "\n",
    "    #data_pca = pca.fit_transform(a) # = US\n",
    "\n",
    "    #c = pca.components_      # V\n",
    "    #s = pca.singular_values_ # S\n",
    "\n",
    "    return u,s,v"
   ]
  },
  {
   "cell_type": "code",
   "execution_count": null,
   "id": "50f0a4c7",
   "metadata": {},
   "outputs": [],
   "source": [
    "[u,s,v] = PCA_scale(W_scaled)"
   ]
  },
  {
   "cell_type": "code",
   "execution_count": null,
   "id": "6233f1e4",
   "metadata": {},
   "outputs": [],
   "source": [
    "print(u.shape)\n",
    "print(s.shape)\n",
    "print(v.shape)\n",
    "fig, ax = plt.subplots()\n",
    "ax.plot(s)\n",
    "\n",
    "ax.set(xlabel='rank', ylabel='S',\n",
    "       title='Singular values')\n",
    "plt.show()"
   ]
  },
  {
   "cell_type": "code",
   "execution_count": null,
   "id": "c3b32004",
   "metadata": {},
   "outputs": [],
   "source": [
    "print(s[:100])"
   ]
  },
  {
   "cell_type": "code",
   "execution_count": null,
   "id": "6dac0ee6",
   "metadata": {},
   "outputs": [],
   "source": [
    "# projection\n",
    "r=20\n",
    "u_r = u[:,:r]\n",
    "s_r = s[:r]\n",
    "S = np.diag(s_r)\n",
    "\n",
    "#_proj = u_r.T@W_short\n",
    "W_proj = u_r.T@W_scaled\n",
    "\n",
    "#W_proj = np.linalg.inv(S)@u_r.T@W_short"
   ]
  },
  {
   "cell_type": "code",
   "execution_count": null,
   "id": "29b4467d",
   "metadata": {},
   "outputs": [],
   "source": [
    "%matplotlib qt\n",
    "dims=20\n",
    "t=1000\n",
    "time = np.linspace(1, t, t)\n",
    "d = np.linspace(1, dims, dims)\n",
    "T, N = np.meshgrid(time, d)\n",
    "\n",
    "fig = plt.figure(figsize = (12,10))\n",
    "ax = plt.axes(projection='3d')\n",
    "\n",
    "surf = ax.plot_surface(T, N, W_proj[0:dims,:], cmap = plt.cm.cividis)\n",
    "# Set axes label\n",
    "#ax.set_xlabel('x', labelpad=20)\n",
    "#ax.set_ylabel('y', labelpad=20)\n",
    "#ax.set_zlabel('z', labelpad=20)\n",
    "\n",
    "fig.colorbar(surf, shrink=0.5, aspect=8)\n",
    "\n",
    "plt.show()"
   ]
  },
  {
   "cell_type": "code",
   "execution_count": null,
   "id": "5c489a41",
   "metadata": {},
   "outputs": [],
   "source": [
    "%matplotlib inline\n",
    "fig, ax = plt.subplots()\n",
    "ax.plot(W_proj[:2,:].T)\n",
    "plt.show()"
   ]
  },
  {
   "cell_type": "code",
   "execution_count": null,
   "id": "4d4818ba",
   "metadata": {},
   "outputs": [],
   "source": [
    "print(W_proj.shape)"
   ]
  },
  {
   "cell_type": "code",
   "execution_count": null,
   "id": "e0c14ee1",
   "metadata": {},
   "outputs": [],
   "source": [
    "# reconstruction\n",
    "@jit(target_backend='cuda')\n",
    "def PCA_recon(a,u_r):\n",
    "    \n",
    "    U = u_r@u_r.T\n",
    "    b = U@a\n",
    "\n",
    "\n",
    "\n",
    "    return b"
   ]
  },
  {
   "cell_type": "code",
   "execution_count": null,
   "id": "5dac2204",
   "metadata": {},
   "outputs": [],
   "source": []
  },
  {
   "cell_type": "code",
   "execution_count": null,
   "id": "6c26b95f",
   "metadata": {},
   "outputs": [],
   "source": []
  }
 ],
 "metadata": {
  "kernelspec": {
   "display_name": "Python 3 (ipykernel)",
   "language": "python",
   "name": "python3"
  },
  "language_info": {
   "codemirror_mode": {
    "name": "ipython",
    "version": 3
   },
   "file_extension": ".py",
   "mimetype": "text/x-python",
   "name": "python",
   "nbconvert_exporter": "python",
   "pygments_lexer": "ipython3",
   "version": "3.9.16"
  }
 },
 "nbformat": 4,
 "nbformat_minor": 5
}
