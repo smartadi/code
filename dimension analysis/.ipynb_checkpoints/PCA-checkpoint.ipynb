{
 "cells": [
  {
   "cell_type": "code",
   "execution_count": 3,
   "id": "92c4d143",
   "metadata": {},
   "outputs": [],
   "source": [
    "import numpy as np\n",
    "import scipy as sc\n",
    "import matplotlib.pyplot as plt\n",
    "%matplotlib inline\n",
    "import matplotlib.animation as animation\n",
    "from sklearn import datasets  # to retrieve the iris Dataset\n",
    "import pandas as pd  # to load the dataframe\n",
    "from sklearn.preprocessing import StandardScaler  # to standardize the features\n",
    "from sklearn.decomposition import PCA  # to apply PCA\n",
    "import seaborn as sns  # to plot the heat maps#float32"
   ]
  },
  {
   "cell_type": "code",
   "execution_count": 4,
   "id": "30100bfa",
   "metadata": {},
   "outputs": [
    {
     "name": "stdout",
     "output_type": "stream",
     "text": [
      "(336, 115379)\n"
     ]
    }
   ],
   "source": [
    "# Load spike data\n",
    "spike_data = np.load('../data/spikes_v1_clean.npy')                      \n",
    "spike_data_t = spike_data[:,10000:10999]\n",
    "print(np.shape(spike_data))\n",
    "\n",
    "# short time span\n",
    "t = np.shape(spike_data_t)[1]\n",
    "n = np.shape(spike_data)[0]\n"
   ]
  },
  {
   "cell_type": "code",
   "execution_count": 5,
   "id": "7de13a59",
   "metadata": {},
   "outputs": [
    {
     "name": "stdout",
     "output_type": "stream",
     "text": [
      "(336, 999)\n"
     ]
    }
   ],
   "source": [
    "scalar = StandardScaler()\n",
    "scaled_data = pd.DataFrame(scalar.fit_transform(spike_data_t)) #scaling the data\n",
    "print(scaled_data.shape)"
   ]
  },
  {
   "cell_type": "code",
   "execution_count": 6,
   "id": "4618fb9c",
   "metadata": {
    "scrolled": true
   },
   "outputs": [],
   "source": [
    "#sns.heatmap(scaled_data.corr())"
   ]
  },
  {
   "cell_type": "code",
   "execution_count": 7,
   "id": "8f47f2d0",
   "metadata": {},
   "outputs": [
    {
     "name": "stdout",
     "output_type": "stream",
     "text": [
      "[2.86143256e-01 3.92144930e-02 3.44585627e-02 2.55781292e-02\n",
      " 2.44536315e-02 2.15987971e-02 1.91181126e-02 1.88194167e-02\n",
      " 1.59530604e-02 1.37326214e-02 1.27832257e-02 1.15495779e-02\n",
      " 1.12761200e-02 1.06206827e-02 1.00122608e-02 9.63502513e-03\n",
      " 9.42857982e-03 8.83624481e-03 8.47795090e-03 8.31330524e-03\n",
      " 8.11778680e-03 8.10800048e-03 7.83805683e-03 7.39101688e-03\n",
      " 7.26660718e-03 7.10205214e-03 6.90797095e-03 6.75526815e-03\n",
      " 6.62707983e-03 6.49167095e-03 6.34120400e-03 6.23821885e-03\n",
      " 6.11251456e-03 5.91504429e-03 5.76388809e-03 5.67160725e-03\n",
      " 5.47773131e-03 5.41917253e-03 5.29294581e-03 5.28252839e-03\n",
      " 5.21301998e-03 5.03824762e-03 4.92412827e-03 4.85761194e-03\n",
      " 4.78934835e-03 4.56249078e-03 4.53228175e-03 4.49804786e-03\n",
      " 4.38491981e-03 4.37508687e-03 4.26673822e-03 4.22020562e-03\n",
      " 4.13706975e-03 4.06024804e-03 4.05179383e-03 3.92553103e-03\n",
      " 3.88789561e-03 3.79719971e-03 3.76098518e-03 3.65857689e-03\n",
      " 3.60826967e-03 3.58012772e-03 3.46472346e-03 3.35461138e-03\n",
      " 3.32350934e-03 3.25866684e-03 3.22040301e-03 3.14856874e-03\n",
      " 3.06969526e-03 3.01250403e-03 2.97855827e-03 2.91351223e-03\n",
      " 2.83207009e-03 2.78433586e-03 2.76283528e-03 2.67655389e-03\n",
      " 2.66157527e-03 2.62374006e-03 2.57570501e-03 2.53694818e-03\n",
      " 2.50484022e-03 2.48483199e-03 2.46073859e-03 2.36553208e-03\n",
      " 2.29850694e-03 2.27429694e-03 2.26862817e-03 2.22258843e-03\n",
      " 2.16435031e-03 2.14181483e-03 2.12489368e-03 2.08868367e-03\n",
      " 2.03908977e-03 1.97763715e-03 1.92508518e-03 1.91636873e-03\n",
      " 1.87849537e-03 1.84271892e-03 1.82620852e-03 1.79666392e-03\n",
      " 1.78061935e-03 1.74282290e-03 1.74107084e-03 1.70377773e-03\n",
      " 1.65801442e-03 1.64100771e-03 1.62764805e-03 1.57634732e-03\n",
      " 1.54932551e-03 1.52912121e-03 1.50301867e-03 1.45481062e-03\n",
      " 1.44155489e-03 1.40148460e-03 1.37127629e-03 1.36320352e-03\n",
      " 1.35243346e-03 1.31477516e-03 1.29733057e-03 1.28276345e-03\n",
      " 1.23337740e-03 1.21712773e-03 1.21347246e-03 1.19087722e-03\n",
      " 1.18685164e-03 1.13675665e-03 1.12448715e-03 1.11488227e-03\n",
      " 1.08397218e-03 1.06616383e-03 1.05471153e-03 1.02566914e-03\n",
      " 1.01600883e-03 9.94224678e-04 9.56771845e-04 9.44149943e-04\n",
      " 9.30890437e-04 8.81969397e-04 8.76150729e-04 8.53066085e-04\n",
      " 8.37578527e-04 8.15517355e-04 8.02982896e-04 7.96390395e-04\n",
      " 7.71667718e-04 7.47074821e-04 7.26058667e-04 7.22498725e-04\n",
      " 6.98540972e-04 6.95604276e-04 6.80214303e-04 6.46400434e-04\n",
      " 6.36645073e-04 6.19297906e-04 6.12265591e-04 6.01772213e-04\n",
      " 5.81116958e-04 5.74944003e-04 5.63574729e-04 5.47187287e-04\n",
      " 5.21031772e-04 5.19645098e-04 5.05880800e-04 4.91702998e-04\n",
      " 4.74264775e-04 4.63806481e-04 4.53039065e-04 4.35691843e-04\n",
      " 4.28907376e-04 4.11783151e-04 3.96319096e-04 3.81240642e-04\n",
      " 3.70161767e-04 3.60388013e-04 3.44225770e-04 3.37927216e-04\n",
      " 3.33115205e-04 3.23122232e-04 3.10921077e-04 3.06863195e-04\n",
      " 3.03568407e-04 2.84749359e-04 2.73585658e-04 2.66263434e-04\n",
      " 2.59968616e-04 2.39994420e-04 2.24570809e-04 2.22892798e-04\n",
      " 2.07396516e-04 2.04349987e-04 1.94125640e-04 1.83188006e-04\n",
      " 1.79128946e-04 1.73911550e-04 1.68953731e-04 1.64457388e-04\n",
      " 1.54511440e-04 1.48988230e-04 1.42379537e-04 1.32730453e-04\n",
      " 1.32001889e-04 1.26416508e-04 1.25613518e-04 1.21184268e-04\n",
      " 1.13165395e-04 1.12267043e-04 1.04065896e-04 1.01925234e-04\n",
      " 9.74506097e-05 9.67502866e-05 8.85897835e-05 8.21982840e-05\n",
      " 8.05695877e-05 7.80790219e-05 7.12695525e-05 6.63058740e-05\n",
      " 5.87726840e-05 5.54627975e-05 5.23484438e-05 5.14293257e-05\n",
      " 4.88556587e-05 4.71333849e-05 4.19247259e-05 3.88226926e-05\n",
      " 3.19310193e-05 3.04698646e-05 2.97618304e-05 2.90023301e-05\n",
      " 2.84353213e-05 2.75933701e-05 2.64292914e-05 2.59942920e-05\n",
      " 2.32156818e-05 2.18739543e-05 2.08971984e-05 1.93191254e-05\n",
      " 1.63681402e-05 1.59502143e-05 1.54963931e-05 1.51360905e-05\n",
      " 1.42617035e-05 1.34210039e-05 1.26912453e-05 1.22833265e-05\n",
      " 1.12136599e-05 1.09905952e-05 1.04040374e-05 8.86200640e-06\n",
      " 8.52266804e-06 8.44445697e-06 7.40578266e-06 6.36078969e-06\n",
      " 6.10620484e-06 6.00752450e-06 5.24486626e-06 4.71131365e-06\n",
      " 4.42600603e-06 4.10242932e-06 3.48299047e-06 3.09820569e-06\n",
      " 1.74972647e-06 9.27702471e-07 1.93497633e-31 4.79769096e-32\n",
      " 1.21980704e-32 9.44360050e-33 9.07255825e-33 8.40445432e-33\n",
      " 7.74111595e-33 5.54904973e-33 5.52818988e-33 5.52147067e-33\n",
      " 4.42700492e-33 3.55352792e-33 2.40179299e-33 1.78378577e-33\n",
      " 1.78378577e-33 1.78378577e-33 1.78378577e-33 1.78378577e-33\n",
      " 1.78378577e-33 1.78378577e-33 1.78378577e-33 1.78378577e-33\n",
      " 1.78378577e-33 1.78378577e-33 1.78378577e-33 1.78378577e-33\n",
      " 1.78378577e-33 1.78378577e-33 1.78378577e-33 1.78378577e-33\n",
      " 1.78378577e-33 1.78378577e-33 1.78378577e-33 1.78378577e-33\n",
      " 1.78378577e-33 1.78378577e-33 1.78378577e-33 1.78378577e-33\n",
      " 1.78378577e-33 1.78378577e-33 1.78378577e-33 1.78378577e-33\n",
      " 1.78378577e-33 1.78378577e-33 1.78378577e-33 1.78378577e-33\n",
      " 1.78378577e-33 1.78378577e-33 1.78378577e-33 1.78378577e-33\n",
      " 1.78378577e-33 1.78378577e-33 1.78378577e-33 1.78378577e-33\n",
      " 1.78378577e-33 1.78378577e-33 1.78378577e-33 1.78378577e-33\n",
      " 1.78378577e-33 1.78378577e-33 1.78378577e-33 1.78378577e-33\n",
      " 1.78378577e-33 1.78378577e-33 1.78378577e-33 1.78378577e-33\n",
      " 1.78378577e-33 1.78378577e-33 1.78378577e-33 6.80234199e-34\n",
      " 6.56077444e-34 5.81564168e-34 5.76276113e-34 5.50332715e-34]\n"
     ]
    }
   ],
   "source": [
    "#Applying PCA\n",
    "\n",
    "#Taking no. of Principal Components r\n",
    "r = 336\n",
    "pca = PCA(n_components = r)\n",
    "\n",
    "#pca.fit(scaled_data)\n",
    "#data_pca = pca.transform(scaled_data)\n",
    "\n",
    "# X = USV'\n",
    "data_pca = pca.fit_transform(scaled_data) # = US\n",
    "\n",
    "explained_variance = pca.explained_variance_ratio_\n",
    "print(pca.explained_variance_ratio_)\n",
    "\n",
    "c = pca.components_      # V\n",
    "s = pca.singular_values_ # S\n",
    "S = np.diag(s)\n",
    "\n",
    "#print(S)\n",
    "#print(np.linalg.inv(S))\n",
    "#print(data_pca2 @ np.linalg.inv(S))"
   ]
  },
  {
   "cell_type": "code",
   "execution_count": null,
   "id": "5f90e0fe",
   "metadata": {},
   "outputs": [],
   "source": [
    "# Project data into low dim space \n",
    "# X_proj = U'X\n",
    "# X_proj = inv(S)S'U'X\n",
    "spike__projected = np.linalg.inv(S)@data_pca.T@scaled_data\n",
    "\n",
    "#print(spike_new_proj)"
   ]
  },
  {
   "cell_type": "code",
   "execution_count": null,
   "id": "7581a535",
   "metadata": {},
   "outputs": [],
   "source": [
    "spike_projected = pd.DataFrame.to_numpy(spike__projected)\n",
    "dims=10\n",
    "time = np.linspace(1, t, t)\n",
    "d = np.linspace(1, dims, dims)\n",
    "T, N = np.meshgrid(time, d)\n",
    "\n",
    "fig = plt.figure(figsize = (12,10))\n",
    "ax = plt.axes(projection='3d')\n",
    "\n",
    "surf = ax.plot_surface(T, N, spike_projected[0:dims,:], cmap = plt.cm.cividis)\n",
    "# Set axes label\n",
    "#ax.set_xlabel('x', labelpad=20)\n",
    "#ax.set_ylabel('y', labelpad=20)\n",
    "#ax.set_zlabel('z', labelpad=20)\n",
    "\n",
    "fig.colorbar(surf, shrink=0.5, aspect=8)\n",
    "\n",
    "plt.show()"
   ]
  },
  {
   "cell_type": "code",
   "execution_count": null,
   "id": "e3cb8e11",
   "metadata": {},
   "outputs": [],
   "source": [
    "fig = plt.figure(figsize = (12,10))\n",
    "plt.contourf(T, N, spike_projected[0:dims,:], 20, cmap='RdGy')\n",
    "plt.colorbar();"
   ]
  },
  {
   "cell_type": "code",
   "execution_count": null,
   "id": "7e0641bf",
   "metadata": {},
   "outputs": [],
   "source": [
    "# from scratch\n",
    "\n",
    "u, s, v = np.linalg.svd(scaled_data, full_matrices=False)\n",
    "print(np.shape(u))\n",
    "print(np.shape(s))\n",
    "print(np.shape(v))\n",
    "#print(u)\n",
    "\n",
    "spike_reduced = u[:, :r] @ np.diag(s[:r]) @ v[:r, :]\n",
    "spike_proj = u[:, :r].T @ scaled_data\n"
   ]
  },
  {
   "cell_type": "code",
   "execution_count": null,
   "id": "e0fd35f3",
   "metadata": {},
   "outputs": [],
   "source": [
    "fig, ax = plt.subplots()\n",
    "#light_onset_time = 4\n",
    "#stimulus_duration = 10\n",
    "spike_value = 1\n",
    "# Loop to plot raster for each trial\n",
    "for trial in range(len(spike_proj)):\n",
    "    spike_times = [i for i, x in enumerate(spike_proj[trial]) if x >= 4]\n",
    "    ax.vlines(spike_times, trial - 0.5, trial + 0.5)\n",
    "\n",
    "ax.set_xlim([0, len(spike_proj)])\n",
    "#ax.set_xlim([0, 1000])\n",
    "ax.set_xlabel('Time (ms)')\n",
    "\n",
    "# specify tick marks and label label y axis\n",
    "# ax.set_yticks(range(len(spike_data_small)))\n",
    "ax.set_ylabel('Trial Number')\n",
    "\n",
    "ax.set_title('Neuronal Spike Times')\n",
    "\n",
    "# add shading for stimulus duration)\n",
    "plt.show()"
   ]
  },
  {
   "cell_type": "code",
   "execution_count": null,
   "id": "905a412d",
   "metadata": {},
   "outputs": [],
   "source": [
    "ss = pd.DataFrame.to_numpy(spike_proj)"
   ]
  },
  {
   "cell_type": "code",
   "execution_count": null,
   "id": "55f887fd",
   "metadata": {},
   "outputs": [],
   "source": [
    "time = np.linspace(1, 999, 999)\n",
    "neurons = np.linspace(1, 100, 100)\n",
    "#print(time.shape)\n",
    "#print(time)\n",
    "#print(neurons.shape)\n",
    "#print(neurons)\n",
    "T, N = np.meshgrid(time, neurons)\n",
    "\n",
    "\n",
    "plt.contourf(T, N, ss[0:100,:], 20, cmap='RdGy')"
   ]
  },
  {
   "cell_type": "code",
   "execution_count": null,
   "id": "fbfffa01",
   "metadata": {},
   "outputs": [],
   "source": [
    "time = np.linspace(1, 999, 999)\n",
    "neurons = np.linspace(1, 5, 5)\n",
    "T, N = np.meshgrid(time, neurons)\n",
    "\n",
    "fig = plt.figure(figsize = (12,10))\n",
    "ax = plt.axes(projection='3d')\n",
    "\n",
    "surf = ax.plot_surface(T, N, ss[0:5,:], cmap = plt.cm.cividis)\n",
    "# Set axes label\n",
    "#ax.set_xlabel('x', labelpad=20)\n",
    "#ax.set_ylabel('y', labelpad=20)\n",
    "#ax.set_zlabel('z', labelpad=20)\n",
    "\n",
    "fig.colorbar(surf, shrink=0.5, aspect=8)\n",
    "\n",
    "plt.show()"
   ]
  },
  {
   "cell_type": "code",
   "execution_count": null,
   "id": "e2cdc9ef",
   "metadata": {},
   "outputs": [],
   "source": [
    "scaled = pd.DataFrame.to_numpy(scaled_data)\n",
    "time = np.linspace(1, 999, 999)\n",
    "neurons = np.linspace(1, 336, 336)\n",
    "T, N = np.meshgrid(time, neurons)\n",
    "\n",
    "fig = plt.figure(figsize = (12,10))\n",
    "ax = plt.axes(projection='3d')\n",
    "\n",
    "surf = ax.plot_surface(T, N, scaled, cmap = plt.cm.cividis)\n",
    "# Set axes label\n",
    "#ax.set_xlabel('x', labelpad=20)\n",
    "#ax.set_ylabel('y', labelpad=20)\n",
    "#ax.set_zlabel('z', labelpad=20)\n",
    "\n",
    "fig.colorbar(surf, shrink=0.5, aspect=8)\n",
    "\n",
    "plt.show()"
   ]
  },
  {
   "cell_type": "code",
   "execution_count": null,
   "id": "866a69c3",
   "metadata": {},
   "outputs": [],
   "source": [
    "time = np.linspace(1, 999, 999)\n",
    "neurons = np.linspace(1, 5, 5)\n",
    "T, N = np.meshgrid(time, neurons)\n",
    "\n",
    "fig = plt.figure(figsize = (12,10))\n",
    "ax = plt.axes(projection='3d')\n",
    "\n",
    "surf = ax.plot_surface(T, N, ss[0:5,:], cmap = plt.cm.cividis)\n",
    "# Set axes label\n",
    "#ax.set_xlabel('x', labelpad=20)\n",
    "#ax.set_ylabel('y', labelpad=20)\n",
    "#ax.set_zlabel('z', labelpad=20)\n",
    "\n",
    "fig.colorbar(surf, shrink=0.5, aspect=8)\n",
    "\n",
    "plt.show()"
   ]
  },
  {
   "cell_type": "code",
   "execution_count": null,
   "id": "ed3253f3",
   "metadata": {},
   "outputs": [],
   "source": [
    "# full original data\n",
    "#scaled = pd.DataFrame.to_numpy(scaled_data)\n",
    "\n",
    "time = np.linspace(1, 100000, 100000)\n",
    "neurons = np.linspace(1, 336, 336)\n",
    "T, N = np.meshgrid(time, neurons)\n",
    "\n",
    "fig = plt.figure(figsize = (12,10))\n",
    "ax = plt.axes(projection='3d')\n",
    "\n",
    "surf = ax.plot_surface(T, N, spike_data[:,0:100000], cmap = plt.cm.cividis)\n",
    "# Set axes label\n",
    "#ax.set_xlabel('x', labelpad=20)\n",
    "#ax.set_ylabel('y', labelpad=20)\n",
    "#ax.set_zlabel('z', labelpad=20)\n",
    "\n",
    "fig.colorbar(surf, shrink=0.5, aspect=8)\n",
    "\n",
    "plt.show()"
   ]
  },
  {
   "cell_type": "code",
   "execution_count": null,
   "id": "ce318c15",
   "metadata": {},
   "outputs": [],
   "source": [
    "%matplotlib qt\n",
    "\n",
    "fig = plt.figure(figsize = (12,10))\n",
    "ax = plt.axes(projection='3d')\n",
    "\n",
    "time = np.linspace(1, 999, 999)\n",
    "neurons = np.linspace(1, 336, 336)\n",
    "\n",
    "\n",
    "T, N = np.meshgrid(time, neurons)\n",
    "print(ss.shape)\n",
    "print(T.shape)\n",
    "print(N.shape)\n",
    "surf = ax.plot_surface(T, N, ss, cmap = plt.cm.cividis)\n",
    "\n",
    "\n",
    "fig.colorbar(surf, shrink=0.5, aspect=8)\n",
    "\n",
    "plt.show()"
   ]
  },
  {
   "cell_type": "code",
   "execution_count": null,
   "id": "f712d65e",
   "metadata": {},
   "outputs": [],
   "source": [
    "fig, ax = plt.subplots()\n",
    "ax.plot(spike_data[51,:])\n",
    "\n",
    "ax.set(xlabel='time (s)', ylabel='spike',\n",
    "       title='per neuron')\n",
    "plt.show()\n"
   ]
  },
  {
   "cell_type": "code",
   "execution_count": null,
   "id": "1fa31b8e",
   "metadata": {},
   "outputs": [],
   "source": [
    "from mpl_toolkits.mplot3d import Axes3D\n",
    "\n",
    "data_array = spike_data[:,0:100000]\n",
    "#\n",
    "# Create a figure for plotting the data as a 3D histogram.\n",
    "#\n",
    "fig = plt.figure()\n",
    "ax = fig.add_subplot(111, projection='3d')\n",
    "\n",
    "x_data = T.flatten()\n",
    "y_data = neurons.flatten()\n",
    "z_data = data_array.flatten()\n",
    "ax.bar3d( x_data,\n",
    "          y_data,\n",
    "          np.zeros(len(z_data)),\n",
    "          1, 1, z_data )\n",
    "#\n",
    "# Finally, display the plot.\n",
    "#\n",
    "plt.show()"
   ]
  },
  {
   "cell_type": "code",
   "execution_count": null,
   "id": "a0f077b2",
   "metadata": {},
   "outputs": [],
   "source": []
  }
 ],
 "metadata": {
  "kernelspec": {
   "display_name": "Python 3 (ipykernel)",
   "language": "python",
   "name": "python3"
  },
  "language_info": {
   "codemirror_mode": {
    "name": "ipython",
    "version": 3
   },
   "file_extension": ".py",
   "mimetype": "text/x-python",
   "name": "python",
   "nbconvert_exporter": "python",
   "pygments_lexer": "ipython3",
   "version": "3.9.16"
  }
 },
 "nbformat": 4,
 "nbformat_minor": 5
}
