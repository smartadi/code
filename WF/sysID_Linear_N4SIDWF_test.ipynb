{
 "cells": [
  {
   "cell_type": "code",
   "execution_count": 1,
   "id": "92c4d143",
   "metadata": {},
   "outputs": [],
   "source": [
    "# Need data to be zero mean and scaled???\n",
    "\n",
    "# Stochastic algorithm 3\n",
    "\n",
    "import numpy as np\n",
    "import scipy as sc\n",
    "import matplotlib.pyplot as plt\n",
    "%matplotlib inline\n",
    "import matplotlib.animation as animation\n",
    "from sklearn import datasets  # to retrieve the iris Dataset\n",
    "import pandas as pd  # to load the dataframe\n",
    "from sklearn.preprocessing import StandardScaler  # to standardize the features\n",
    "from sklearn.decomposition import PCA  # to apply PCA\n",
    "import seaborn as sns  # to plot the heat maps#float32\n",
    "import control\n",
    "\n",
    "# ID\n",
    "from __future__ import division\n",
    "\n",
    "from past.utils import old_div\n",
    "\n",
    "# Checking path to access other files\n",
    "try:\n",
    "    from sippy import *\n",
    "except ImportError:\n",
    "    import sys, os\n",
    "\n",
    "    sys.path.append(os.pardir)\n",
    "    from sippy import *\n",
    "\n",
    "import numpy as np\n",
    "from sippy import functionset as fset\n",
    "from sippy import functionsetSIM as fsetSIM\n",
    "import matplotlib.pyplot as plt"
   ]
  },
  {
   "cell_type": "code",
   "execution_count": 2,
   "id": "30100bfa",
   "metadata": {},
   "outputs": [
    {
     "name": "stdout",
     "output_type": "stream",
     "text": [
      "(500, 10000)\n"
     ]
    }
   ],
   "source": [
    "# Load spike data\n",
    "WF_data = np.load('../data/data_WF_PCA_projections_small.npy')\n",
    "print(WF_data.shape)\n",
    "WF_data_r = WF_data[:20,:]"
   ]
  },
  {
   "cell_type": "code",
   "execution_count": 3,
   "id": "b7c4ba70",
   "metadata": {},
   "outputs": [],
   "source": [
    "# Hankel Matrices i>n and j -> \\infty\n",
    "def Hankel(data,h,w):\n",
    "    p = data.shape[0]\n",
    "    J = w # 500\n",
    "    I = h  # double\n",
    "    Y = np.empty([2*I*p,J])\n",
    "\n",
    "    for i in range(2*I):\n",
    "        Y[i*(p):(i+1)*p,:] = data[:,i:J+i]\n",
    "    \n",
    "    print(Y.shape)\n",
    "    return Y"
   ]
  },
  {
   "cell_type": "code",
   "execution_count": 4,
   "id": "fed5856b",
   "metadata": {},
   "outputs": [
    {
     "name": "stdout",
     "output_type": "stream",
     "text": [
      "(20000, 2000)\n",
      "(10000, 2000)\n",
      "(10000, 2000)\n",
      "(10020, 2000)\n",
      "(9980, 2000)\n"
     ]
    }
   ],
   "source": [
    "p = WF_data_r.shape[0]\n",
    "I = 500\n",
    "J = 2000\n",
    "Y = Hankel(WF_data_r,I,J)\n",
    "Yp = Y[:I*p,:]\n",
    "Yf = Y[I*p:,:]\n",
    "\n",
    "Ypp = Y[:(I+1)*p,:]\n",
    "yff = Y[(I+1)*p:,:]\n",
    "print(Yp.shape)\n",
    "print(Yf.shape)\n",
    "print(Ypp.shape)\n",
    "print(yff.shape)"
   ]
  },
  {
   "cell_type": "code",
   "execution_count": 5,
   "id": "ccb32fed",
   "metadata": {},
   "outputs": [],
   "source": [
    "def Project(A,B):\n",
    "    return A@B.T@np.linalg.pinv(B@B.T)@B "
   ]
  },
  {
   "cell_type": "code",
   "execution_count": 6,
   "id": "8c8291ed",
   "metadata": {},
   "outputs": [
    {
     "ename": "KeyboardInterrupt",
     "evalue": "",
     "output_type": "error",
     "traceback": [
      "\u001b[0;31m---------------------------------------------------------------------------\u001b[0m",
      "\u001b[0;31mKeyboardInterrupt\u001b[0m                         Traceback (most recent call last)",
      "\u001b[0;32m/tmp/ipykernel_337851/3953761450.py\u001b[0m in \u001b[0;36m<module>\u001b[0;34m\u001b[0m\n\u001b[0;32m----> 1\u001b[0;31m \u001b[0mOi\u001b[0m \u001b[0;34m=\u001b[0m \u001b[0mProject\u001b[0m\u001b[0;34m(\u001b[0m\u001b[0mYf\u001b[0m\u001b[0;34m,\u001b[0m\u001b[0mYp\u001b[0m\u001b[0;34m)\u001b[0m\u001b[0;34m\u001b[0m\u001b[0;34m\u001b[0m\u001b[0m\n\u001b[0m\u001b[1;32m      2\u001b[0m \u001b[0moi\u001b[0m \u001b[0;34m=\u001b[0m \u001b[0mProject\u001b[0m\u001b[0;34m(\u001b[0m\u001b[0myff\u001b[0m\u001b[0;34m,\u001b[0m\u001b[0mYpp\u001b[0m\u001b[0;34m)\u001b[0m\u001b[0;34m\u001b[0m\u001b[0;34m\u001b[0m\u001b[0m\n",
      "\u001b[0;32m/tmp/ipykernel_337851/752170108.py\u001b[0m in \u001b[0;36mProject\u001b[0;34m(A, B)\u001b[0m\n\u001b[1;32m      1\u001b[0m \u001b[0;32mdef\u001b[0m \u001b[0mProject\u001b[0m\u001b[0;34m(\u001b[0m\u001b[0mA\u001b[0m\u001b[0;34m,\u001b[0m\u001b[0mB\u001b[0m\u001b[0;34m)\u001b[0m\u001b[0;34m:\u001b[0m\u001b[0;34m\u001b[0m\u001b[0;34m\u001b[0m\u001b[0m\n\u001b[0;32m----> 2\u001b[0;31m     \u001b[0;32mreturn\u001b[0m \u001b[0mA\u001b[0m\u001b[0;34m@\u001b[0m\u001b[0mB\u001b[0m\u001b[0;34m.\u001b[0m\u001b[0mT\u001b[0m\u001b[0;34m@\u001b[0m\u001b[0mnp\u001b[0m\u001b[0;34m.\u001b[0m\u001b[0mlinalg\u001b[0m\u001b[0;34m.\u001b[0m\u001b[0mpinv\u001b[0m\u001b[0;34m(\u001b[0m\u001b[0mB\u001b[0m\u001b[0;34m@\u001b[0m\u001b[0mB\u001b[0m\u001b[0;34m.\u001b[0m\u001b[0mT\u001b[0m\u001b[0;34m)\u001b[0m\u001b[0;34m@\u001b[0m\u001b[0mB\u001b[0m\u001b[0;34m\u001b[0m\u001b[0;34m\u001b[0m\u001b[0m\n\u001b[0m",
      "\u001b[0;32m<__array_function__ internals>\u001b[0m in \u001b[0;36mpinv\u001b[0;34m(*args, **kwargs)\u001b[0m\n",
      "\u001b[0;32m~/anaconda3/envs/brain/lib/python3.9/site-packages/numpy/linalg/linalg.py\u001b[0m in \u001b[0;36mpinv\u001b[0;34m(a, rcond, hermitian)\u001b[0m\n\u001b[1;32m   2000\u001b[0m         \u001b[0;32mreturn\u001b[0m \u001b[0mwrap\u001b[0m\u001b[0;34m(\u001b[0m\u001b[0mres\u001b[0m\u001b[0;34m)\u001b[0m\u001b[0;34m\u001b[0m\u001b[0;34m\u001b[0m\u001b[0m\n\u001b[1;32m   2001\u001b[0m     \u001b[0ma\u001b[0m \u001b[0;34m=\u001b[0m \u001b[0ma\u001b[0m\u001b[0;34m.\u001b[0m\u001b[0mconjugate\u001b[0m\u001b[0;34m(\u001b[0m\u001b[0;34m)\u001b[0m\u001b[0;34m\u001b[0m\u001b[0;34m\u001b[0m\u001b[0m\n\u001b[0;32m-> 2002\u001b[0;31m     \u001b[0mu\u001b[0m\u001b[0;34m,\u001b[0m \u001b[0ms\u001b[0m\u001b[0;34m,\u001b[0m \u001b[0mvt\u001b[0m \u001b[0;34m=\u001b[0m \u001b[0msvd\u001b[0m\u001b[0;34m(\u001b[0m\u001b[0ma\u001b[0m\u001b[0;34m,\u001b[0m \u001b[0mfull_matrices\u001b[0m\u001b[0;34m=\u001b[0m\u001b[0;32mFalse\u001b[0m\u001b[0;34m,\u001b[0m \u001b[0mhermitian\u001b[0m\u001b[0;34m=\u001b[0m\u001b[0mhermitian\u001b[0m\u001b[0;34m)\u001b[0m\u001b[0;34m\u001b[0m\u001b[0;34m\u001b[0m\u001b[0m\n\u001b[0m\u001b[1;32m   2003\u001b[0m \u001b[0;34m\u001b[0m\u001b[0m\n\u001b[1;32m   2004\u001b[0m     \u001b[0;31m# discard small singular values\u001b[0m\u001b[0;34m\u001b[0m\u001b[0;34m\u001b[0m\u001b[0m\n",
      "\u001b[0;32m<__array_function__ internals>\u001b[0m in \u001b[0;36msvd\u001b[0;34m(*args, **kwargs)\u001b[0m\n",
      "\u001b[0;32m~/anaconda3/envs/brain/lib/python3.9/site-packages/numpy/linalg/linalg.py\u001b[0m in \u001b[0;36msvd\u001b[0;34m(a, full_matrices, compute_uv, hermitian)\u001b[0m\n\u001b[1;32m   1658\u001b[0m \u001b[0;34m\u001b[0m\u001b[0m\n\u001b[1;32m   1659\u001b[0m         \u001b[0msignature\u001b[0m \u001b[0;34m=\u001b[0m \u001b[0;34m'D->DdD'\u001b[0m \u001b[0;32mif\u001b[0m \u001b[0misComplexType\u001b[0m\u001b[0;34m(\u001b[0m\u001b[0mt\u001b[0m\u001b[0;34m)\u001b[0m \u001b[0;32melse\u001b[0m \u001b[0;34m'd->ddd'\u001b[0m\u001b[0;34m\u001b[0m\u001b[0;34m\u001b[0m\u001b[0m\n\u001b[0;32m-> 1660\u001b[0;31m         \u001b[0mu\u001b[0m\u001b[0;34m,\u001b[0m \u001b[0ms\u001b[0m\u001b[0;34m,\u001b[0m \u001b[0mvh\u001b[0m \u001b[0;34m=\u001b[0m \u001b[0mgufunc\u001b[0m\u001b[0;34m(\u001b[0m\u001b[0ma\u001b[0m\u001b[0;34m,\u001b[0m \u001b[0msignature\u001b[0m\u001b[0;34m=\u001b[0m\u001b[0msignature\u001b[0m\u001b[0;34m,\u001b[0m \u001b[0mextobj\u001b[0m\u001b[0;34m=\u001b[0m\u001b[0mextobj\u001b[0m\u001b[0;34m)\u001b[0m\u001b[0;34m\u001b[0m\u001b[0;34m\u001b[0m\u001b[0m\n\u001b[0m\u001b[1;32m   1661\u001b[0m         \u001b[0mu\u001b[0m \u001b[0;34m=\u001b[0m \u001b[0mu\u001b[0m\u001b[0;34m.\u001b[0m\u001b[0mastype\u001b[0m\u001b[0;34m(\u001b[0m\u001b[0mresult_t\u001b[0m\u001b[0;34m,\u001b[0m \u001b[0mcopy\u001b[0m\u001b[0;34m=\u001b[0m\u001b[0;32mFalse\u001b[0m\u001b[0;34m)\u001b[0m\u001b[0;34m\u001b[0m\u001b[0;34m\u001b[0m\u001b[0m\n\u001b[1;32m   1662\u001b[0m         \u001b[0ms\u001b[0m \u001b[0;34m=\u001b[0m \u001b[0ms\u001b[0m\u001b[0;34m.\u001b[0m\u001b[0mastype\u001b[0m\u001b[0;34m(\u001b[0m\u001b[0m_realType\u001b[0m\u001b[0;34m(\u001b[0m\u001b[0mresult_t\u001b[0m\u001b[0;34m)\u001b[0m\u001b[0;34m,\u001b[0m \u001b[0mcopy\u001b[0m\u001b[0;34m=\u001b[0m\u001b[0;32mFalse\u001b[0m\u001b[0;34m)\u001b[0m\u001b[0;34m\u001b[0m\u001b[0;34m\u001b[0m\u001b[0m\n",
      "\u001b[0;31mKeyboardInterrupt\u001b[0m: "
     ]
    }
   ],
   "source": [
    "Oi = Project(Yf,Yp)\n",
    "oi = Project(yff,Ypp)"
   ]
  },
  {
   "cell_type": "code",
   "execution_count": null,
   "id": "323fd613",
   "metadata": {},
   "outputs": [],
   "source": [
    "#W1 = np.eye(p*I)\n",
    "#W2 = np.eye(J)\n",
    "#O = W1@Oi@W2\n",
    "O = Oi\n",
    "print(Oi.shape)\n",
    "print(O.shape)"
   ]
  },
  {
   "cell_type": "code",
   "execution_count": null,
   "id": "5e08fcb1",
   "metadata": {},
   "outputs": [],
   "source": [
    "U, s, VT = np.linalg.svd(O, full_matrices=False)"
   ]
  },
  {
   "cell_type": "code",
   "execution_count": null,
   "id": "959f21e9",
   "metadata": {},
   "outputs": [],
   "source": [
    "print(s.shape)\n",
    "fig, ax = plt.subplots()\n",
    "ax.plot(s)\n",
    "\n",
    "ax.set(xlabel='rank', ylabel='S',\n",
    "       title='Singular values')\n",
    "plt.show()"
   ]
  },
  {
   "cell_type": "code",
   "execution_count": null,
   "id": "6de04b01",
   "metadata": {},
   "outputs": [],
   "source": [
    "# get r from svd\n",
    "r = 30\n",
    "U_r = U[:,:r]\n",
    "S_r = np.diag(s[:r,])"
   ]
  },
  {
   "cell_type": "code",
   "execution_count": null,
   "id": "04529ece",
   "metadata": {},
   "outputs": [],
   "source": [
    "Gi = U_r@sc.linalg.sqrtm(S_r)\n",
    "gi = Gi[:-p,:]\n",
    "Xhat = np.linalg.pinv(Gi)@Oi\n",
    "XXhat = np.linalg.pinv(gi)@oi\n",
    "Yi = Yf[:p,:]"
   ]
  },
  {
   "cell_type": "code",
   "execution_count": null,
   "id": "94f80321",
   "metadata": {},
   "outputs": [],
   "source": [
    "A = XXhat@np.linalg.pinv(Xhat)\n",
    "print(A.shape)\n",
    "C = Yi@np.linalg.pinv(Xhat)\n",
    "print(C.shape)"
   ]
  },
  {
   "cell_type": "code",
   "execution_count": null,
   "id": "7948a682",
   "metadata": {},
   "outputs": [],
   "source": [
    "# residuals\n",
    "rho_w = XXhat - A@Xhat\n",
    "rho_v = Yi - C@Xhat\n",
    "rho =  np.concatenate((rho_w, rho_v), axis=0)\n",
    "print(rho.shape)\n",
    "Cov = np.cov(rho)\n",
    "print(Cov.shape)"
   ]
  },
  {
   "cell_type": "code",
   "execution_count": null,
   "id": "8df80424",
   "metadata": {},
   "outputs": [],
   "source": [
    "Q = Cov[:30,:30]\n",
    "R = Cov[-20:,-20:]\n",
    "SS = Cov[:30,-20:]\n",
    "print(SS.shape)"
   ]
  },
  {
   "cell_type": "code",
   "execution_count": null,
   "id": "40a934c9",
   "metadata": {},
   "outputs": [],
   "source": [
    "#Sig = scipy.linalg.solve_discrete_lyapunov(A,Q)\n",
    "#G = A@Sig@C.T + SS\n",
    "#Gam_0 = C@Sig@C.T + R\n",
    "\n",
    "#P = scipy.linalg.solve_discrete_are(A.T,)\n"
   ]
  },
  {
   "cell_type": "code",
   "execution_count": null,
   "id": "9f480e82",
   "metadata": {},
   "outputs": [],
   "source": [
    "#K,P,E = control.dlqe(A,np.eye(r),C,Q,R)"
   ]
  },
  {
   "cell_type": "code",
   "execution_count": null,
   "id": "2eeccb13",
   "metadata": {},
   "outputs": [],
   "source": [
    "# orignal data projected\n",
    "t = 500\n",
    "time = np.linspace(1, t, t)\n",
    "neurons = np.linspace(1, p, p)\n",
    "T, N = np.meshgrid(time, neurons)\n",
    "\n",
    "fig = plt.figure(figsize = (12,10))\n",
    "ax = plt.axes(projection='3d')\n",
    "\n",
    "surf = ax.plot_surface(T, N, WF_data_r[:,0:t], cmap = plt.cm.cividis)\n",
    "\n",
    "\n",
    "fig.colorbar(surf, shrink=0.5, aspect=8)\n",
    "\n",
    "plt.show()"
   ]
  },
  {
   "cell_type": "code",
   "execution_count": null,
   "id": "c9c05758",
   "metadata": {},
   "outputs": [],
   "source": [
    "print(Xhat[:,0])\n",
    "print(WF_data_r[0:p,0])"
   ]
  },
  {
   "cell_type": "code",
   "execution_count": null,
   "id": "caac7b48",
   "metadata": {},
   "outputs": [],
   "source": [
    "# Forecast\n",
    "tt = 50\n",
    "x = np.zeros([r,tt])\n",
    "x[:,0] = Xhat[:,0]\n",
    "y = np.zeros([p,tt])\n",
    "\n",
    "for i in range(tt-1):\n",
    "    x[:,i+1] = A@x[:,i]\n",
    "    y[:,i] = C@x[:,i]\n",
    "    \n",
    "    "
   ]
  },
  {
   "cell_type": "code",
   "execution_count": null,
   "id": "38383bab",
   "metadata": {},
   "outputs": [],
   "source": [
    "print(Xhat[:,0])\n",
    "print(WF_data_r[0:p,0])\n",
    "print(y[:,0])\n",
    "\n",
    "print(WF_data_r[0:p,0].shape)\n",
    "print(y[:,0].shape)\n"
   ]
  },
  {
   "cell_type": "code",
   "execution_count": null,
   "id": "5744c041",
   "metadata": {},
   "outputs": [],
   "source": [
    "# Forecast cost\n",
    "t = tt\n",
    "time = np.linspace(1, t, t)\n",
    "neurons = np.linspace(1, p, p)\n",
    "T, N = np.meshgrid(time, neurons)\n",
    "\n",
    "fig = plt.figure(figsize = (12,10))\n",
    "ax = plt.axes(projection='3d')\n",
    "\n",
    "surf = ax.plot_surface(T, N, y, cmap = plt.cm.cividis)\n",
    "\n",
    "\n",
    "fig.colorbar(surf, shrink=0.5, aspect=8)\n",
    "\n",
    "plt.show()\n",
    "    "
   ]
  },
  {
   "cell_type": "code",
   "execution_count": null,
   "id": "f4b20327",
   "metadata": {},
   "outputs": [],
   "source": [
    "# orignal data projected\n",
    "t = tt\n",
    "time = np.linspace(1, t, t)\n",
    "neurons = np.linspace(1, p, p)\n",
    "T, N = np.meshgrid(time, neurons)\n",
    "\n",
    "fig = plt.figure(figsize = (12,10))\n",
    "ax = plt.axes(projection='3d')\n",
    "\n",
    "surf = ax.plot_surface(T, N, WF_data_r[0:p,0:t], cmap = plt.cm.cividis)\n",
    "\n",
    "\n",
    "fig.colorbar(surf, shrink=0.5, aspect=8)\n",
    "\n",
    "plt.show()"
   ]
  },
  {
   "cell_type": "code",
   "execution_count": null,
   "id": "b5982c7d",
   "metadata": {},
   "outputs": [],
   "source": []
  },
  {
   "cell_type": "code",
   "execution_count": null,
   "id": "d5d85efa",
   "metadata": {},
   "outputs": [],
   "source": [
    "from mpl_toolkits.mplot3d.axes3d import get_test_data\n",
    "from matplotlib import cm\n",
    "\n",
    "%matplotlib inline\n",
    "# set up a figure twice as wide as it is tall\n",
    "fig = plt.figure(figsize=plt.figaspect(0.5))\n",
    "\n",
    "# =============\n",
    "# First subplot\n",
    "# =============\n",
    "# set up the axes for the first plot\n",
    "ax = fig.add_subplot(1, 2, 1, projection='3d')\n",
    "ax.set_title('predicted data')\n",
    "time = np.linspace(1, t, t)\n",
    "neurons = np.linspace(1, p, p)\n",
    "T, N = np.meshgrid(time, neurons)\n",
    "\n",
    "\n",
    "#surf = ax.plot_surface(T, N, spike_data[:,0:1000], cmap = plt.cm.cividis)\n",
    "surf = ax.plot_surface(T, N, y, cmap = plt.cm.cividis)\n",
    "\n",
    "fig.colorbar(surf, shrink=0.5, aspect=8)\n",
    "\n",
    "# ==============\n",
    "# Second subplot\n",
    "# ==============\n",
    "# set up the axes for the second plot\n",
    "ax = fig.add_subplot(1, 2, 2, projection='3d')\n",
    "ax.set_title('original data')\n",
    "\n",
    "# plot a 3D wireframe like in the example mplot3d/wire3d_demo\n",
    "surf = ax.plot_surface(T, N, WF_data_r[0:p,0:t], cmap = plt.cm.cividis)\n",
    "fig.colorbar(surf, shrink=0.5, aspect=8)\n",
    "\n",
    "plt.show()"
   ]
  },
  {
   "cell_type": "code",
   "execution_count": null,
   "id": "c3fb1251",
   "metadata": {},
   "outputs": [],
   "source": []
  }
 ],
 "metadata": {
  "kernelspec": {
   "display_name": "Python 3 (ipykernel)",
   "language": "python",
   "name": "python3"
  },
  "language_info": {
   "codemirror_mode": {
    "name": "ipython",
    "version": 3
   },
   "file_extension": ".py",
   "mimetype": "text/x-python",
   "name": "python",
   "nbconvert_exporter": "python",
   "pygments_lexer": "ipython3",
   "version": "3.9.16"
  }
 },
 "nbformat": 4,
 "nbformat_minor": 5
}
